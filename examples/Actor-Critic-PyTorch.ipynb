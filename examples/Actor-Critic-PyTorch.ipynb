{
 "cells": [
  {
   "cell_type": "code",
   "execution_count": 1,
   "metadata": {},
   "outputs": [],
   "source": [
    "import argparse\n",
    "import gym\n",
    "import numpy as np\n",
    "from itertools import count\n",
    "from collections import namedtuple\n",
    "\n",
    "import torch\n",
    "import torch.nn as nn\n",
    "import torch.nn.functional as F\n",
    "import torch.optim as optim\n",
    "from torch.distributions import Categorical"
   ]
  },
  {
   "cell_type": "code",
   "execution_count": 2,
   "metadata": {},
   "outputs": [],
   "source": [
    "parser = argparse.ArgumentParser(description='PyTorch actor-critic example')\n",
    "parser.add_argument('--gamma', type=float, default=0.99, metavar='G', help='discount factor (default: 0.99)')\n",
    "parser.add_argument('--seed', type=int, default=543, metavar='N', help='random seed (default: 543)')\n",
    "# parser.add_argument('--render', action='store_true', help='render the environment')\n",
    "parser.add_argument('--render', type=bool,default=True, help='render the environment')\n",
    "parser.add_argument('--log-interval', type=int, default=10, metavar='N', help='interval between training status logs (default: 10)')\n",
    "parser.add_argument('-f','--file',help='Path for input file. (Dummy arg to enable execution in notebook.)' )\n",
    "args = parser.parse_args() "
   ]
  },
  {
   "cell_type": "code",
   "execution_count": 3,
   "metadata": {},
   "outputs": [
    {
     "data": {
      "text/plain": [
       "<torch._C.Generator at 0x2ad3535d710>"
      ]
     },
     "execution_count": 3,
     "metadata": {},
     "output_type": "execute_result"
    }
   ],
   "source": [
    "env = gym.make('CartPole-v0')\n",
    "env.seed(args.seed)\n",
    "torch.manual_seed(args.seed)"
   ]
  },
  {
   "cell_type": "code",
   "execution_count": 4,
   "metadata": {},
   "outputs": [
    {
     "name": "stdout",
     "output_type": "stream",
     "text": [
      "Episode 10\tLast reward: 9.00\tAverage reward: 10.67\n",
      "Episode 20\tLast reward: 10.00\tAverage reward: 14.35\n",
      "Episode 30\tLast reward: 11.00\tAverage reward: 12.54\n",
      "Episode 40\tLast reward: 10.00\tAverage reward: 11.31\n",
      "Episode 50\tLast reward: 12.00\tAverage reward: 10.79\n",
      "Episode 60\tLast reward: 9.00\tAverage reward: 10.43\n",
      "Episode 70\tLast reward: 9.00\tAverage reward: 10.51\n",
      "Episode 80\tLast reward: 12.00\tAverage reward: 11.04\n",
      "Episode 90\tLast reward: 10.00\tAverage reward: 10.78\n",
      "Episode 100\tLast reward: 32.00\tAverage reward: 12.34\n",
      "Episode 110\tLast reward: 12.00\tAverage reward: 13.97\n",
      "Episode 120\tLast reward: 26.00\tAverage reward: 19.78\n",
      "Episode 130\tLast reward: 38.00\tAverage reward: 28.38\n",
      "Episode 140\tLast reward: 38.00\tAverage reward: 42.71\n",
      "Episode 150\tLast reward: 24.00\tAverage reward: 34.16\n",
      "Episode 160\tLast reward: 11.00\tAverage reward: 28.39\n",
      "Episode 170\tLast reward: 39.00\tAverage reward: 27.95\n",
      "Episode 180\tLast reward: 30.00\tAverage reward: 46.19\n",
      "Episode 190\tLast reward: 56.00\tAverage reward: 49.18\n",
      "Episode 200\tLast reward: 56.00\tAverage reward: 60.66\n",
      "Episode 210\tLast reward: 63.00\tAverage reward: 60.97\n",
      "Episode 220\tLast reward: 74.00\tAverage reward: 64.50\n",
      "Episode 230\tLast reward: 125.00\tAverage reward: 68.60\n",
      "Episode 240\tLast reward: 200.00\tAverage reward: 112.97\n",
      "Episode 250\tLast reward: 58.00\tAverage reward: 116.42\n",
      "Episode 260\tLast reward: 110.00\tAverage reward: 98.44\n",
      "Episode 270\tLast reward: 165.00\tAverage reward: 92.56\n",
      "Episode 280\tLast reward: 200.00\tAverage reward: 112.57\n",
      "Episode 290\tLast reward: 200.00\tAverage reward: 138.26\n",
      "Episode 300\tLast reward: 138.00\tAverage reward: 128.57\n",
      "Episode 310\tLast reward: 200.00\tAverage reward: 142.05\n",
      "Episode 320\tLast reward: 200.00\tAverage reward: 154.27\n",
      "Episode 330\tLast reward: 200.00\tAverage reward: 172.62\n",
      "Episode 340\tLast reward: 200.00\tAverage reward: 183.61\n",
      "Episode 350\tLast reward: 87.00\tAverage reward: 160.69\n",
      "Episode 360\tLast reward: 117.00\tAverage reward: 157.73\n",
      "Episode 370\tLast reward: 153.00\tAverage reward: 148.09\n",
      "Episode 380\tLast reward: 130.00\tAverage reward: 140.87\n",
      "Episode 390\tLast reward: 172.00\tAverage reward: 147.59\n",
      "Episode 400\tLast reward: 200.00\tAverage reward: 167.90\n",
      "Episode 410\tLast reward: 56.00\tAverage reward: 168.73\n",
      "Episode 420\tLast reward: 45.00\tAverage reward: 145.21\n",
      "Episode 430\tLast reward: 63.00\tAverage reward: 134.31\n",
      "Episode 440\tLast reward: 200.00\tAverage reward: 140.47\n",
      "Episode 450\tLast reward: 200.00\tAverage reward: 164.36\n",
      "Episode 460\tLast reward: 62.00\tAverage reward: 161.44\n",
      "Episode 470\tLast reward: 200.00\tAverage reward: 176.91\n",
      "Episode 480\tLast reward: 190.00\tAverage reward: 185.68\n",
      "Episode 490\tLast reward: 200.00\tAverage reward: 188.34\n",
      "Episode 500\tLast reward: 200.00\tAverage reward: 193.02\n",
      "Solved! Running reward is now 195.1233547904203 and the last episode runs to 200 time steps!\n"
     ]
    }
   ],
   "source": [
    "class Policy(nn.Module):\n",
    "    def __init__(self):\n",
    "        super(Policy, self).__init__()\n",
    "        self.affine1 = nn.Linear(4, 128)\n",
    "        self.action_head = nn.Linear(128, 2)\n",
    "        self.value_head = nn.Linear(128, 1)\n",
    "\n",
    "        self.saved_actions = []\n",
    "        self.rewards = []\n",
    "\n",
    "    def forward(self, x):\n",
    "        x = F.relu(self.affine1(x))\n",
    "        action_scores = F.softmax(self.action_head(x), dim=-1)\n",
    "        state_values = self.value_head(x)\n",
    "        return action_scores, state_values\n",
    "\n",
    "model = Policy()\n",
    "SavedAction = namedtuple('SavedAction', ['log_prob', 'value'])\n",
    "optimizer = optim.Adam(model.parameters(), lr=3e-2)\n",
    "\n",
    "#Get the smallest possible non-zero number on this machine\n",
    "eps = np.finfo(np.float32).eps.item()\n",
    "\n",
    "def select_action(state):\n",
    "    state = torch.from_numpy(state).float()\n",
    "    probs, state_value = model(state)\n",
    "    m = Categorical(probs)\n",
    "    action = m.sample()\n",
    "    model.saved_actions.append(SavedAction(m.log_prob(action), state_value))\n",
    "    return action.item()\n",
    "\n",
    "def finish_episode():\n",
    "    R = 0\n",
    "    saved_actions = model.saved_actions\n",
    "    policy_losses = []\n",
    "    value_losses = []\n",
    "    returns = []\n",
    "    for r in model.rewards[::-1]:\n",
    "        R = r + args.gamma * R\n",
    "        returns.insert(0, R)\n",
    "    returns = torch.tensor(returns)\n",
    "    returns = (returns - returns.mean()) / (returns.std() + eps)\n",
    "    for (log_prob, value), R in zip(saved_actions, returns):\n",
    "        advantage = R - value.item()\n",
    "        policy_losses.append(-log_prob * advantage)\n",
    "        value_losses.append(F.smooth_l1_loss(value, torch.tensor([R])))\n",
    "    optimizer.zero_grad()\n",
    "    loss = torch.stack(policy_losses).sum() + torch.stack(value_losses).sum()\n",
    "    loss.backward()\n",
    "    optimizer.step()\n",
    "    del model.rewards[:]\n",
    "    del model.saved_actions[:]\n",
    "\n",
    "def main():\n",
    "    running_reward = 10\n",
    "    for i_episode in count(1):\n",
    "        state, ep_reward = env.reset(), 0\n",
    "        for t in range(1, 10000):  # Don't infinite loop while learning\n",
    "            action = select_action(state)\n",
    "            state, reward, done, _ = env.step(action)\n",
    "            if args.render:\n",
    "                env.render()\n",
    "            model.rewards.append(reward)\n",
    "            ep_reward += reward\n",
    "            if done:\n",
    "                break\n",
    "\n",
    "        running_reward = 0.05 * ep_reward + (1 - 0.05) * running_reward\n",
    "        finish_episode()\n",
    "        if i_episode % args.log_interval == 0:\n",
    "            print('Episode {}\\tLast reward: {:.2f}\\tAverage reward: {:.2f}'.format(\n",
    "                  i_episode, ep_reward, running_reward))\n",
    "        if running_reward > env.spec.reward_threshold:\n",
    "            print(\"Solved! Running reward is now {} and \"\n",
    "                  \"the last episode runs to {} time steps!\".format(running_reward, t))\n",
    "            break\n",
    "main()"
   ]
  },
  {
   "cell_type": "code",
   "execution_count": null,
   "metadata": {},
   "outputs": [],
   "source": []
  },
  {
   "cell_type": "code",
   "execution_count": null,
   "metadata": {},
   "outputs": [],
   "source": []
  }
 ],
 "metadata": {
  "kernelspec": {
   "display_name": "Python 3",
   "language": "python",
   "name": "python3"
  },
  "language_info": {
   "codemirror_mode": {
    "name": "ipython",
    "version": 3
   },
   "file_extension": ".py",
   "mimetype": "text/x-python",
   "name": "python",
   "nbconvert_exporter": "python",
   "pygments_lexer": "ipython3",
   "version": "3.7.3"
  }
 },
 "nbformat": 4,
 "nbformat_minor": 2
}
