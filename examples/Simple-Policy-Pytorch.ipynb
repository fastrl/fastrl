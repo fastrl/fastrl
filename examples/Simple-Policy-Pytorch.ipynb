{
 "cells": [
  {
   "cell_type": "markdown",
   "metadata": {
    "deletable": true,
    "editable": true
   },
   "source": [
    "# Simple Reinforcement Learning in Pytorch: \n",
    "## The Multi-armed bandit, basic policy optimization"
   ]
  },
  {
   "cell_type": "code",
   "execution_count": 1,
   "metadata": {
    "collapsed": false,
    "deletable": true,
    "editable": true
   },
   "outputs": [],
   "source": [
    "import torch\n",
    "import torch.nn.functional as F\n",
    "import numpy as np"
   ]
  },
  {
   "cell_type": "markdown",
   "metadata": {
    "deletable": true,
    "editable": true
   },
   "source": [
    "### The Bandit\n",
    "We are using a four-armed bandit. The pullBandit function generates a random number between zero and 1. The lower the bandit number, the more likely a positive reward will be returned. We want our agent to learn to always choose the arm that will give that positive reward."
   ]
  },
  {
   "cell_type": "code",
   "execution_count": 2,
   "metadata": {
    "collapsed": false,
    "deletable": true,
    "editable": true
   },
   "outputs": [],
   "source": [
    "#List out our bandit arms, where the bandit_payoff is the likelihood of a payoff when that arm is pulled.\n",
    "#Currently arm 3 (index #2) is set to most often provide a positive reward.\n",
    "\n",
    "bandit_payoffs = [0.1, 0.0, 0.3, 0.15]\n",
    "num_arms = len(bandit_payoffs)\n",
    "def pullBanditArm(arm):\n",
    "    #Get a random number.\n",
    "    result = np.random.rand(1)\n",
    "    if result < bandit_payoffs[arm]:\n",
    "        #return a positive reward.\n",
    "        return 1\n",
    "    else:\n",
    "        #return a negative reward.\n",
    "        return -1"
   ]
  },
  {
   "cell_type": "markdown",
   "metadata": {},
   "source": [
    "### The Agent\n",
    "\n",
    "#### Basic agent using vanilla policy of randomly selecting action based on weighted policy estimates"
   ]
  },
  {
   "cell_type": "code",
   "execution_count": 3,
   "metadata": {
    "collapsed": false,
    "deletable": true,
    "editable": true
   },
   "outputs": [],
   "source": [
    "class Agent(torch.nn.Module):\n",
    "    \n",
    "#Simple layer of weights, one for each bandit arm\n",
    "    def __init__(self):\n",
    "        super(Agent, self).__init__()\n",
    "        self.weights = torch.ones([num_arms], requires_grad=True)\n",
    "        \n",
    "#Use softmax to shape output of choice values\n",
    "    def forward(self):\n",
    "        return F.softmax(self.weights,dim=0)\n",
    "        \n",
    "#Pick a random action from likelihood based on the current policy\n",
    "    def action(self,output):\n",
    "        return torch.multinomial(output, 1)[0].data\n",
    "        \n",
    "#compute cross-entropy \"loss\" on the arm we picked. Because this is from a softmax, it will backpropagate to all weights.\n",
    "    def loss(self,output,action,reward):\n",
    "        return -output[action].log()*reward"
   ]
  },
  {
   "cell_type": "markdown",
   "metadata": {
    "deletable": true,
    "editable": true
   },
   "source": [
    "### Training the Agent"
   ]
  },
  {
   "cell_type": "code",
   "execution_count": 4,
   "metadata": {},
   "outputs": [],
   "source": [
    "\n",
    "def train_agent(agent,trials=1000,lr=0.01):\n",
    "    optimizer = torch.optim.Adam([agent.weights],lr=lr)\n",
    "    for i in range(trials):\n",
    "        optimizer.zero_grad()\n",
    "        output = agent.forward()\n",
    "        action = agent.action(output)\n",
    "        reward = pullBanditArm(action)\n",
    "        loss = agent.loss(output,action,reward)\n",
    "        loss.backward()\n",
    "        optimizer.step()\n",
    "    print(\"The learned likelihood of getting the best reward from each of the arms after trial\", trials)\n",
    "    print(F.softmax(agent.weights,dim=0).data.numpy().round(3))"
   ]
  },
  {
   "cell_type": "code",
   "execution_count": 5,
   "metadata": {
    "collapsed": false,
    "deletable": true,
    "editable": true
   },
   "outputs": [
    {
     "name": "stdout",
     "output_type": "stream",
     "text": [
      "The learned likelihood of getting the best reward from each of the arms after trial 1000\n",
      "[0.094 0.034 0.744 0.128]\n"
     ]
    }
   ],
   "source": [
    "agent = Agent()\n",
    "train_agent(agent,1000)"
   ]
  },
  {
   "cell_type": "markdown",
   "metadata": {},
   "source": [
    "### Policy Variations\n",
    "\n",
    "#### Always pick the current best policy action forecast, even at the very beginning of training"
   ]
  },
  {
   "cell_type": "code",
   "execution_count": 6,
   "metadata": {},
   "outputs": [
    {
     "name": "stdout",
     "output_type": "stream",
     "text": [
      "The learned likelihood of getting the best reward from each of the arms after trial 1000\n",
      "[0.251 0.251 0.252 0.246]\n"
     ]
    }
   ],
   "source": [
    "class Agent_greedy(Agent):\n",
    "    \n",
    "    def action(self,output):\n",
    "        return torch.argmax(output)\n",
    "\n",
    "train_agent(Agent_greedy(),1000)"
   ]
  },
  {
   "cell_type": "markdown",
   "metadata": {},
   "source": [
    "\n",
    "#### Pick likely-best policy option half the time, random half the time."
   ]
  },
  {
   "cell_type": "code",
   "execution_count": 7,
   "metadata": {},
   "outputs": [
    {
     "name": "stdout",
     "output_type": "stream",
     "text": [
      "The learned likelihood of getting the best reward from each of the arms after trial 1000\n",
      "[0.    0.    0.998 0.001]\n"
     ]
    }
   ],
   "source": [
    "class Agent_mixed(Agent):\n",
    "    \n",
    "    def action(self,output):\n",
    "        if(np.random.rand() > 0.5):\n",
    "            return super(Agent_mixed,self).action(output)\n",
    "        else:\n",
    "            return np.random.randint(0,num_arms)\n",
    "\n",
    "train_agent(Agent_mixed(),1000)"
   ]
  },
  {
   "cell_type": "markdown",
   "metadata": {},
   "source": [
    "\n",
    "#### Use an epsilon-greedy policy."
   ]
  },
  {
   "cell_type": "code",
   "execution_count": 8,
   "metadata": {},
   "outputs": [
    {
     "name": "stdout",
     "output_type": "stream",
     "text": [
      "The learned likelihood of getting the best reward from each of the arms after trial 1000\n",
      "[0.242 0.246 0.263 0.248]\n"
     ]
    }
   ],
   "source": [
    "class Agent_epsilon_greedy(Agent):\n",
    "    \n",
    "    def __init__(self):\n",
    "        super(Agent_epsilon_greedy, self).__init__()\n",
    "        self.epsilon = 0.1\n",
    "        \n",
    "    def action(self,output):\n",
    "        if(np.random.rand() > self.epsilon):\n",
    "            return torch.argmax(output)\n",
    "        else:\n",
    "            return np.random.randint(0,num_arms)\n",
    "\n",
    "train_agent(Agent_epsilon_greedy(),1000)"
   ]
  },
  {
   "cell_type": "markdown",
   "metadata": {},
   "source": [
    "#### Use an epsilon-greedy with decreasing epsilon (starts randomly and gradually shifts to greedy.)"
   ]
  },
  {
   "cell_type": "code",
   "execution_count": 9,
   "metadata": {},
   "outputs": [
    {
     "name": "stdout",
     "output_type": "stream",
     "text": [
      "The learned likelihood of getting the best reward from each of the arms after trial 1000\n",
      "[0.251 0.247 0.249 0.253]\n",
      "final epsilon: 4.312807616324709e-05\n"
     ]
    }
   ],
   "source": [
    "class Agent_epsilon_decreasing(Agent):\n",
    "    \n",
    "    def __init__(self):\n",
    "        super(Agent_epsilon_decreasing, self).__init__()\n",
    "        self.epsilon = 0.999\n",
    "        \n",
    "    def action(self,output):\n",
    "        self.epsilon *= 0.99\n",
    "        if(np.random.rand() > self.epsilon):\n",
    "            return torch.argmax(output)\n",
    "        else:\n",
    "            return np.random.randint(0,num_arms)\n",
    "\n",
    "agent = Agent_epsilon_decreasing()\n",
    "train_agent(agent,1000)\n",
    "print(\"final epsilon:\",agent.epsilon)"
   ]
  },
  {
   "cell_type": "code",
   "execution_count": null,
   "metadata": {},
   "outputs": [],
   "source": []
  }
 ],
 "metadata": {
  "anaconda-cloud": {},
  "kernelspec": {
   "display_name": "Python 3",
   "language": "python",
   "name": "python3"
  },
  "language_info": {
   "codemirror_mode": {
    "name": "ipython",
    "version": 3
   },
   "file_extension": ".py",
   "mimetype": "text/x-python",
   "name": "python",
   "nbconvert_exporter": "python",
   "pygments_lexer": "ipython3",
   "version": "3.7.3"
  }
 },
 "nbformat": 4,
 "nbformat_minor": 2
}
