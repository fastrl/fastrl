{
 "cells": [
  {
   "cell_type": "markdown",
   "metadata": {
    "deletable": true,
    "editable": true
   },
   "source": [
    "# Simple Reinforcement Learning in Pytorch: \n",
    "## The Multi-armed bandit, basic policy optimization"
   ]
  },
  {
   "cell_type": "code",
   "execution_count": 1,
   "metadata": {
    "collapsed": false,
    "deletable": true,
    "editable": true
   },
   "outputs": [],
   "source": [
    "import torch\n",
    "import torch.nn.functional as F\n",
    "import numpy as np"
   ]
  },
  {
   "cell_type": "markdown",
   "metadata": {
    "deletable": true,
    "editable": true
   },
   "source": [
    "### The Bandit\n",
    "We are using a four-armed bandit. The pullBandit function generates a random number between zero and 1. The lower the bandit number, the more likely a positive reward will be returned. We want our agent to learn to always choose the arm that will give that positive reward."
   ]
  },
  {
   "cell_type": "code",
   "execution_count": 2,
   "metadata": {
    "collapsed": false,
    "deletable": true,
    "editable": true
   },
   "outputs": [],
   "source": [
    "#List out our bandit arms, where the bandit_payoff is the likelihood of a payoff when that arm is pulled.\n",
    "#Currently arm 3 (index #2) is set to most often provide a positive reward.\n",
    "\n",
    "bandit_payoffs = [0.1, 0.0, 0.99, 0.15]\n",
    "num_arms = len(bandit_payoffs)\n",
    "def pullBanditArm(arm):\n",
    "    #Get a random number.\n",
    "    result = np.random.rand(1)\n",
    "    if result < bandit_payoffs[arm]:\n",
    "        #return a positive reward.\n",
    "        return 1\n",
    "    else:\n",
    "        #return a negative reward.\n",
    "        return -1"
   ]
  },
  {
   "cell_type": "code",
   "execution_count": 3,
   "metadata": {
    "collapsed": false,
    "deletable": true,
    "editable": true
   },
   "outputs": [],
   "source": [
    "class Agent(torch.nn.Module):\n",
    "    \n",
    "#Simple layer of weights, one for each bandit arm\n",
    "    def __init__(self):\n",
    "        super(Agent, self).__init__()\n",
    "        self.weights = torch.ones([num_arms], requires_grad=True)\n",
    "        \n",
    "#Use softmax to shape output of choice values\n",
    "    def forward(self):\n",
    "        return F.softmax(self.weights,dim=0)\n",
    "        \n",
    "#Pick a random action from likelihood based on the current policy\n",
    "    def action(self,output8):\n",
    "        policy = output.data.numpy()\n",
    "        actionValue = np.random.choice(policy,p=policy)\n",
    "        action = np.argmax(policy == actionValue)\n",
    "        return action\n",
    "        \n",
    "#compute loss on the arm we picked\n",
    "    def loss(self,output,action,reward):\n",
    "        return -output[action]*reward"
   ]
  },
  {
   "cell_type": "markdown",
   "metadata": {
    "deletable": true,
    "editable": true
   },
   "source": [
    "### Training the Agent"
   ]
  },
  {
   "cell_type": "code",
   "execution_count": 4,
   "metadata": {
    "collapsed": false,
    "deletable": true,
    "editable": true
   },
   "outputs": [
    {
     "name": "stdout",
     "output_type": "stream",
     "text": [
      "The learned likelihood of getting the best reward from each of the arms after trial 100\n",
      "[0.001 0.002 0.995 0.002]\n"
     ]
    }
   ],
   "source": [
    "\n",
    "agent = Agent()\n",
    "optimizer = torch.optim.Adam([agent.weights], lr=0.1)\n",
    "trials = 100\n",
    "for i in range(trials):\n",
    "    optimizer.zero_grad()\n",
    "    output = agent.forward()\n",
    "    action = agent.action(output)\n",
    "    reward = pullBanditArm(action)\n",
    "    loss = agent.loss(output,action,reward)\n",
    "    loss.backward()\n",
    "    optimizer.step()\n",
    "    \n",
    "print(\"The learned likelihood of getting the best reward from each of the arms after trial\", trials)\n",
    "print(F.softmax(agent.weights,dim=0).data.numpy().round(3))"
   ]
  }
 ],
 "metadata": {
  "anaconda-cloud": {},
  "kernelspec": {
   "display_name": "Python 3",
   "language": "python",
   "name": "python3"
  },
  "language_info": {
   "codemirror_mode": {
    "name": "ipython",
    "version": 3
   },
   "file_extension": ".py",
   "mimetype": "text/x-python",
   "name": "python",
   "nbconvert_exporter": "python",
   "pygments_lexer": "ipython3",
   "version": "3.7.3"
  }
 },
 "nbformat": 4,
 "nbformat_minor": 2
}
