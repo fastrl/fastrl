{
 "cells": [
  {
   "cell_type": "markdown",
   "metadata": {
    "deletable": true,
    "editable": true
   },
   "source": [
    "# Simple Reinforcement Learning in Pytorch: \n",
    "## The Multi-armed bandit, basic policy optimization"
   ]
  },
  {
   "cell_type": "code",
   "execution_count": 1,
   "metadata": {
    "collapsed": false,
    "deletable": true,
    "editable": true
   },
   "outputs": [],
   "source": [
    "import torch\n",
    "import torch.nn.functional as F\n",
    "import numpy as np"
   ]
  },
  {
   "cell_type": "markdown",
   "metadata": {
    "deletable": true,
    "editable": true
   },
   "source": [
    "### The Bandit\n",
    "We are using a four-armed bandit. The pullBandit function generates a random number between zero and 1. The lower the bandit number, the more likely a positive reward will be returned. We want our agent to learn to always choose the arm that will give that positive reward."
   ]
  },
  {
   "cell_type": "code",
   "execution_count": 2,
   "metadata": {
    "collapsed": false,
    "deletable": true,
    "editable": true
   },
   "outputs": [],
   "source": [
    "#List out our bandit arms, where the arm value is the likelihood of a payoff when that arm is pulled.\n",
    "#Currently arm 3 (index #2) is set to most often provide a positive reward.\n",
    "\n",
    "bandit_arms = [0.1,0.0,0.3,0.15]\n",
    "num_arms = len(bandit_arms)\n",
    "def pullBandit(bandit):\n",
    "    #Get a random number.\n",
    "    result = np.random.rand(1)\n",
    "    if result < bandit:\n",
    "        #return a positive reward.\n",
    "        return 1\n",
    "    else:\n",
    "        #return a negative reward.\n",
    "        return -1"
   ]
  },
  {
   "cell_type": "markdown",
   "metadata": {
    "deletable": true,
    "editable": true
   },
   "source": [
    "### The Model\n",
    "The code below established a simple neural model. We use a policy gradient method to update the agent by moving the value for the selected action toward the recieved reward.\n"
   ]
  },
  {
   "cell_type": "code",
   "execution_count": 3,
   "metadata": {
    "collapsed": false,
    "deletable": true,
    "editable": true
   },
   "outputs": [],
   "source": [
    "class Model(torch.nn.Module):\n",
    "    \n",
    "#Simple layer of weights, one for each bandit arm\n",
    "    def __init__(self):\n",
    "        super(Model, self).__init__()\n",
    "        self.weights = torch.ones([num_arms], requires_grad=True)\n",
    "        \n",
    "#Place holder for reward to line up with output position\n",
    "        self.targets = torch.zeros([num_arms], requires_grad=False,dtype=torch.long)\n",
    "        \n",
    "#Use softmax to shape output of desired choices\n",
    "    def forward(self):\n",
    "           return F.softmax(self.weights,dim=0)\n",
    "        \n",
    "#pick a random action with likelihood based on the current policy\n",
    "    def action(self,output):\n",
    "            o = output.data.numpy()\n",
    "            a = np.random.choice(o,p=o)\n",
    "            return np.argmax(output == a)\n",
    "\n",
    "#Get our reward from pulling the selected bandit arms.\n",
    "    def reward(self,action):\n",
    "            return pullBandit(bandit_arms[action])\n",
    "        \n",
    "#compute loss on the arm we picked\n",
    "\n",
    "    def loss(self,output,action,reward):\n",
    "        self.targets[action]=reward\n",
    "        loss = -output[action]*reward\n",
    "        self.targets[action]=0.\n",
    "        return loss"
   ]
  },
  {
   "cell_type": "markdown",
   "metadata": {
    "deletable": true,
    "editable": true
   },
   "source": [
    "### Training the Model"
   ]
  },
  {
   "cell_type": "code",
   "execution_count": 4,
   "metadata": {
    "collapsed": false,
    "deletable": true,
    "editable": true
   },
   "outputs": [
    {
     "name": "stdout",
     "output_type": "stream",
     "text": [
      "The learned likelihood of getting the best reward from each of the 4 arms after trial 100\n",
      "tensor([0.1469, 0.0568, 0.6046, 0.1917])\n"
     ]
    }
   ],
   "source": [
    "\n",
    "net = Model()\n",
    "optimizer = torch.optim.SGD([net.weights], lr=0.001, momentum=0.9)\n",
    "trials = 100\n",
    "for i in range(trials):\n",
    "    output = net.forward()\n",
    "    action = net.action(output)\n",
    "    reward = net.reward(action)\n",
    "    loss = net.loss(output,action,reward)\n",
    "    loss.backward()\n",
    "    optimizer.step()\n",
    "    \n",
    "print(\"The learned likelihood of getting the best reward from each of the 4 arms after trial\", trials)\n",
    "print(F.softmax(net.weights,dim=0).data)"
   ]
  },
  {
   "cell_type": "code",
   "execution_count": null,
   "metadata": {},
   "outputs": [],
   "source": []
  }
 ],
 "metadata": {
  "anaconda-cloud": {},
  "kernelspec": {
   "display_name": "Python 3",
   "language": "python",
   "name": "python3"
  },
  "language_info": {
   "codemirror_mode": {
    "name": "ipython",
    "version": 3
   },
   "file_extension": ".py",
   "mimetype": "text/x-python",
   "name": "python",
   "nbconvert_exporter": "python",
   "pygments_lexer": "ipython3",
   "version": "3.7.3"
  }
 },
 "nbformat": 4,
 "nbformat_minor": 2
}
